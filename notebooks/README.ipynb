{
 "cells": [
  {
   "cell_type": "markdown",
   "id": "e1cff27e",
   "metadata": {},
   "source": [
    "# Opitimointihaaste\n",
    "\n",
    "Suomenkieliseen työpajaan pääset [tästä!](FI/FI_Optimointi%20Automaattinen.ipynb)"
   ]
  },
  {
   "cell_type": "markdown",
   "id": "eadbe020",
   "metadata": {},
   "source": [
    "# Optimization challenge\n",
    "Access the English workshop [here!](EN/EN_Optimization_Automatic.ipynb)"
   ]
  }
 ],
 "metadata": {
  "language_info": {
   "name": "python"
  }
 },
 "nbformat": 4,
 "nbformat_minor": 5
}
