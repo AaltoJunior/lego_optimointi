{
 "cells": [
  {
   "cell_type": "markdown",
   "id": "e1cff27e",
   "metadata": {},
   "source": [
    "# Optimnointihaaste\n",
    "\n",
    "Suomenkieliseen työpajaan pääset [tästä!](notebooks/FI/FI_Optimointi%20Ohje%20TYHJÄ.ipynb)"
   ]
  },
  {
   "cell_type": "markdown",
   "id": "eadbe020",
   "metadata": {},
   "source": [
    "# Optimization challenge\n",
    "Accees english workshop [here!](notebooks/EN/EN_Optimization_Empty.ipynb)"
   ]
  }
 ],
 "metadata": {
  "language_info": {
   "name": "python"
  }
 },
 "nbformat": 4,
 "nbformat_minor": 5
}
