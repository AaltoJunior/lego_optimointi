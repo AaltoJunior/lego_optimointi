{
 "cells": [
  {
   "cell_type": "markdown",
   "id": "258b4ff2",
   "metadata": {},
   "source": [
    "# Optimointi pythonilla\n",
    "Optimointia voi myös tehdä tietokoneen avulla. Tässä tapauksessa käytetään pythonia.Tätä varten tarvitsen **pulp** libraryn ja sieltä seuraavat funktiot."
   ]
  },
  {
   "cell_type": "markdown",
   "id": "6f622fdd",
   "metadata": {},
   "source": [
    "Tuodaan **pulp** kirjasto ohjelmointiympäristöön:"
   ]
  },
  {
   "cell_type": "code",
   "execution_count": null,
   "id": "b10f1dda",
   "metadata": {},
   "outputs": [],
   "source": [
    "from pulp import LpMaximize, LpProblem, LpVariable, value"
   ]
  },
  {
   "cell_type": "markdown",
   "id": "af89387a",
   "metadata": {},
   "source": [
    "# Funktio\n",
    "Käytämme samaa esimerkkiä kuin aikaisemmin, eli rakennamme tuoleja ja pöytiä legoilla."
   ]
  },
  {
   "cell_type": "code",
   "execution_count": null,
   "id": "f0ba7ae8",
   "metadata": {},
   "outputs": [],
   "source": [
    "print(\"\\nHei! Olen Optimointikone, ja ratkaisen optimointiongelman sinun puolestasi! Tarvitsen vain vastauksen muutamaan kysymykseen, jotta voin maksimoida kohdefunktion...\")\n",
    "\n",
    "lego_pieni_määrä = int(input(\"Kuinka paljon sinulla on pieniä legoja käytössä? \"))\n",
    "lego_iso_määrä = int(input(\"Kuinka paljon sinulla on isoja legoja käytössä? \"))\n",
    "\n",
    "lego_pieni_hinta = int(input(\"Mikä on pienen legon hinta? \"))\n",
    "lego_iso_hinta = int(input(\"Mikä on ison legon hinta? \"))\n",
    "\n",
    "tuoli_myyntihinta = int(input(\"Mikä on tuolin myyntihinta? \"))\n",
    "pöytä_myyntihinta = int(input(\"Mikä on pöydän myyntihinta? \"))\n",
    "\n",
    "print(\"\\nKiitos tiedoista! Pieni hetki, lasken nyt optimipisteen ja myyntivoiton...\")\n",
    "\n",
    "model = LpProblem(name=\"optimointi\", sense=LpMaximize)\n",
    "\n",
    "tuolit = LpVariable(name=\"tuolit\", lowBound=0, cat='Integer')\n",
    "pöydät = LpVariable(name=\"pöydät\", lowBound=0, cat='Integer')\n",
    "\n",
    "model += (tuoli_myyntihinta * tuolit + pöytä_myyntihinta * pöydät\n",
    "          - lego_pieni_hinta * (2 * tuolit + 2 * pöydät)\n",
    "          - lego_iso_hinta * (tuolit + 2 * pöydät)), \"voitto\"\n",
    "\n",
    "\n",
    "model += (2 * tuolit + 2 * pöydät <= lego_pieni_määrä, \"pieni_rajoite\")\n",
    "model += (tuolit + 2 * pöydät <= lego_iso_määrä, \"iso_rajoite\")\n",
    "\n",
    "model.solve()\n",
    "\n",
    "print(f\"Kannattaa valmistaa {int(tuolit.varValue)} kpl tuoleja ja {int(pöydät.varValue)} kpl pöytiä - tämä on optimitilanne!\")\n",
    "print(f\"Jos tottelet ohjeitani, saavutat maksimaalisen myyntivoiton: {value(model.objective):.2f}€\")\n",
    "\n",
    "käytetyt_pienet = 2 * int(tuolit.varValue) + 2 * int(pöydät.varValue)\n",
    "käytetyt_isot = int(tuolit.varValue) + 2 * int(pöydät.varValue)\n",
    "\n",
    "print(f\"{lego_pieni_määrä - käytetyt_pienet} kpl pieniä legoja jäi yli.\")\n",
    "print(f\"{lego_iso_määrä - käytetyt_isot} kpl isoja legoja jäi yli.\")"
   ]
  },
  {
   "cell_type": "code",
   "execution_count": null,
   "id": "d6d68973",
   "metadata": {},
   "outputs": [],
   "source": []
  }
 ],
 "metadata": {
  "kernelspec": {
   "display_name": "Python 3 (ipykernel)",
   "language": "python",
   "name": "python3"
  },
  "language_info": {
   "codemirror_mode": {
    "name": "ipython",
    "version": 3
   },
   "file_extension": ".py",
   "mimetype": "text/x-python",
   "name": "python",
   "nbconvert_exporter": "python",
   "pygments_lexer": "ipython3",
   "version": "3.11.5"
  }
 },
 "nbformat": 4,
 "nbformat_minor": 5
}
