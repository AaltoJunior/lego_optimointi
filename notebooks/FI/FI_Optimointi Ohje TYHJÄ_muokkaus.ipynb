{
 "cells": [
  {
   "cell_type": "markdown",
   "id": "258b4ff2",
   "metadata": {},
   "source": [
    "# Optimointi pythonillaa\n",
    "Optimointia voi myös tehdä tietokoneen avulla. Tässä tapauksessa käytetään pythonia. Tätä varten tarvitset **pulp** libraryn ja sieltä seuraavat funktiot."
   ]
  },
  {
   "cell_type": "markdown",
   "id": "4035b55b",
   "metadata": {},
   "source": [
    "Mikäli **pulp** puuttuu tietokoneeltasi, voit asentaa sen näin:"
   ]
  },
  {
   "cell_type": "code",
   "execution_count": null,
   "id": "f9ff39f1",
   "metadata": {},
   "outputs": [],
   "source": [
    "pip install pulp"
   ]
  },
  {
   "cell_type": "code",
   "execution_count": null,
   "id": "b10f1dda",
   "metadata": {},
   "outputs": [],
   "source": [
    "from pulp import LpMaximize, LpProblem, LpVariable, value"
   ]
  },
  {
   "cell_type": "markdown",
   "id": "af89387a",
   "metadata": {},
   "source": [
    "# Inputs\n",
    "Käytämme samaa esimerkkiä kuin aikaisemmin, eli **rakennamme tuoleja ja pöytiä legoilla**. Tätä varten ohjelmaan syötetään erikokoisten legojen määrät ja hinnat, sekä valmiiden huonekalujen myyntihinnat. Nämä tiedot tallennetaan **muuttujiin**."
   ]
  },
  {
   "cell_type": "markdown",
   "id": "b5d349b8",
   "metadata": {},
   "source": [
    "**Tehtävä 1:** \n",
    "Määrittele seuraavat muuttajat:\n",
    "- Käytettävissä olevien pienten ja isojen legojen lukumäärät\n",
    "- Pienen ja ison legon hinnat\n",
    "- Tuolin ja pöydän myyntihinnat"
   ]
  },
  {
   "cell_type": "code",
   "execution_count": null,
   "id": "f0ba7ae8",
   "metadata": {},
   "outputs": [],
   "source": [
    "# Legojen määrät:\n",
    "lego_pieni_määrä = \n",
    "lego_iso_määrä = \n",
    "\n",
    "# Legojen hinnat:\n",
    "lego_pieni_hinta = \n",
    "lego_iso_hinta = \n",
    "\n",
    "# Tuotteiden myyntihinnat:\n",
    "tuoli_myyntihinta = \n",
    "pöytä_myyntihinta = "
   ]
  },
  {
   "cell_type": "markdown",
   "id": "36bfa6e1",
   "metadata": {},
   "source": [
    "# Määritellään funktiot"
   ]
  },
  {
   "cell_type": "code",
   "execution_count": null,
   "id": "84153bfc",
   "metadata": {},
   "outputs": [],
   "source": [
    "model = LpProblem(name=\"optimointi\", sense=LpMaximize)"
   ]
  },
  {
   "cell_type": "code",
   "execution_count": null,
   "id": "40100c32",
   "metadata": {},
   "outputs": [],
   "source": [
    "tuolit = LpVariable(name=\"tuolit\", lowBound=0, cat='Integer')\n",
    "pöydät = LpVariable(name=\"pöydät\", lowBound=0, cat='Integer')"
   ]
  },
  {
   "cell_type": "markdown",
   "id": "022a7b9f",
   "metadata": {},
   "source": [
    "Määritellään seuraavaksi **kohdefunktio** eli myyntivoiton funktio. Yhteen tuoliin tarvitaan 1 pieni ja 2 isoa legoa, yhteen pöytään tarvitaan 2 pientä ja 2 isoa palaa. x_1 on pienten legojen ja x_2 isojen legojen käytettävissä oleva määrä."
   ]
  },
  {
   "cell_type": "markdown",
   "id": "47aff229",
   "metadata": {},
   "source": [
    "**Tehtävä 2:** Halutaan maksimoida myyntivoitto, eli lisätään ohjelmaan seuraava funktio:\n",
    "     \n",
    "$${tuoli\\:myynti\\:hinta*tuolit+pöytä\\:myynti\\:hinta*pöydät-lego\\:pieni\\:hinta*(x_1)-lego\\:iso\\:hinta*(x_2)}$$\n",
    "\n",
    "missä\n",
    "   \n",
    "$$x_1 = {2*tuolit+2*pöydät}$$\n",
    "$$x_2 = {1*tuolit+2*pöydät}$$"
   ]
  },
  {
   "cell_type": "code",
   "execution_count": null,
   "id": "863566ac",
   "metadata": {},
   "outputs": [],
   "source": [
    "# Kirjoita yllä oleva funktio tähän, muista käyttää kaarisulkuja tarpeen mukaan\n",
    "model += "
   ]
  },
  {
   "cell_type": "markdown",
   "id": "1595ed39",
   "metadata": {},
   "source": [
    "# Rajoitteet\n",
    "**Tehtävä 3:** Tuolien ja pöytien rakentamiseen liittyi myös tiettyjä rajoitteita, jotka pitää ottaa huomioon: palikoita on saatavilla vain 8 pientä palaa ja 6 isoa.\n",
    "\n",
    "$${2*tuolit+2*pöydät} \\le lego\\:pieni\\:määrä$$\n",
    "$${1*tuolit+2*pöydät} \\le lego\\:iso\\:määrä$$"
   ]
  },
  {
   "cell_type": "code",
   "execution_count": null,
   "id": "4d11e033",
   "metadata": {},
   "outputs": [],
   "source": [
    "# Kirjoita yllä oleva ensimmäinen rajoitefunktio tähän\n",
    "model += \n",
    "\n",
    "# Kirjoita yll äoleva toinen rajoitefunktio tähän\n",
    "model += \n"
   ]
  },
  {
   "cell_type": "markdown",
   "id": "f80d7044",
   "metadata": {},
   "source": [
    "# Lasketaan lopputulos\n",
    "**Tehtävä 4:** Tulostetaan lopputulos, eli optimaalinen määrä tuoleja ja pöytiä. Sen lisäksi voidaan myös tulostaa näiden tuottama myyntivoitto."
   ]
  },
  {
   "cell_type": "code",
   "execution_count": null,
   "id": "20416737",
   "metadata": {},
   "outputs": [],
   "source": [
    "model.solve()"
   ]
  },
  {
   "cell_type": "code",
   "execution_count": null,
   "id": "6ac91873",
   "metadata": {},
   "outputs": [],
   "source": [
    "# Tulostetaan optimiratkaisu\n",
    "print(\"Optimiratkaisu:\")\n",
    "print(f\"Tuoleja: {int(tuolit.varValue)}\")\n",
    "print(f\"Pöytiä: {int(pöydät.varValue)}\")\n",
    "\n",
    "# Tulostetaan myyntivoitto\n",
    "total_profit = value(model.objective)\n",
    "print(f\"\\nMyyntivoitto: ${total_profit:.2f}\\n\")\n",
    "\n",
    "# Jäikö jotain yli?\n",
    "käytetyt_pienet = 2 * int(tuolit.varValue) + 2 * int(pöydät.varValue)\n",
    "käytetyt_isot = int(tuolit.varValue) + 2 * int(pöydät.varValue)\n",
    "\n",
    "lego_pieni_yli = lego_pieni_määrä - käytetyt_pienet\n",
    "lego_iso_yli = lego_iso_määrä - käytetyt_isot\n",
    "\n",
    "print(f\"{lego_pieni_yli} kpl pieniä legoja jäi yli.\")\n",
    "print(f\"{lego_iso_yli} kpl isoja legoja jäi yli.\")\n",
    "\n",
    "# Tulostetaan myyntihinta\n",
    "myyntihinta = (tuoli_myyntihinta * int(tuolit.varValue)) + (pöytä_myyntihinta * int(pöydät.varValue))\n",
    "print(f\"\\nMyyntihinta: {myyntihinta:.2f}€\")"
   ]
  },
  {
   "cell_type": "markdown",
   "id": "98609f81",
   "metadata": {},
   "source": [
    "# Lisätehtäviä\n",
    "**1.** Entäs jos sinulla onkin 100 pientä ja 85 isoa legoa? Mikä silloin on optimaaliratkaisu? \n",
    "\n",
    "**2.** Entä jos legojen hinnat nousevat? Laske optimiratkaisu, kun pienen legon hinta onkin 4€ ja ison 7€."
   ]
  },
  {
   "cell_type": "markdown",
   "id": "a079a2a9",
   "metadata": {},
   "source": [
    "**3.** Lisää hylly optimointimalliin.\n",
    "\n",
    "Sinulla on käytettävissäsi satunnaisesti arvottu määrä pieniä ja isoja legoja. \n",
    "Tehtäväsi on lisätä uusi tuote (\"hylly\") optimointimalliin ja määrittää sen vaikutus myyntivoittoon.\n",
    "\n",
    "Hylly:\n",
    "- Myyntihinta: 60€\n",
    "- Käyttää 4 pientä ja 3 isoa legoa.\n",
    "\n",
    "Tee seuraavat muutokset:\n",
    "1. Lisää päätösmuuttuja hylly.\n",
    "2. Lisää hylly osaksi kohdefunktiota.\n",
    "3. Lisää rajoitteisiin hyllyjen kuluttamat legot.\n",
    "4. Tulosta optimiratkaisussa myös hyllyjen määrä.\n",
    "5. Aja koodi muutamia kertoja ja vertaile mitä tuotteita valmistetaan. Mikä on myyntivoitto? Mikä on myyntihinta? Jääkö pieniä tai isoja legoja yli? Miten annettujen legojen määrä vaikuttaa tuloksiin?  \n",
    "\n"
   ]
  },
  {
   "cell_type": "code",
   "execution_count": null,
   "id": "8db651ac",
   "metadata": {},
   "outputs": [],
   "source": [
    "import random\n",
    "# Arvotaan legojen määrät\n",
    "lego_pieni_määrä = random.randint(150, 200) \n",
    "lego_iso_määrä = random.randint(100, 150)\n",
    "# Tulostetaan legojen määrät\n",
    "print(f\"Pienten legojen määrä: {lego_pieni_määrä}\")\n",
    "print(f\"Isojen legojen määrä: {lego_iso_määrä}\")\n"
   ]
  },
  {
   "cell_type": "code",
   "execution_count": null,
   "id": "04b5a56f",
   "metadata": {},
   "outputs": [],
   "source": [
    "\n",
    "# Lego hinnat\n",
    "lego_pieni_hinta = 3\n",
    "lego_iso_hinta = 5\n",
    "\n",
    "# Tuotteiden myyntihinnat\n",
    "tuoli_myyntihinta = 21\n",
    "pöytä_myyntihinta = 32\n",
    "hylly_myyntihinta = \n",
    "\n",
    "# Luodaan optimointimalli\n",
    "model = LpProblem(name=\"lego-optimointi\", sense=LpMaximize)\n",
    "\n",
    "# Päätösmuuttujat tuolit ja pöydät on annettuna valmiiksi. Lisää alle hyllyt.\n",
    "tuolit = LpVariable(name=\"tuolit\", lowBound=10, cat=\"Integer\") # vähintään 10\n",
    "pöydät = LpVariable(name=\"pöydät\", lowBound=10, cat=\"Integer\") # vähintään 10\n",
    "hyllyt = \n",
    "\n",
    "# Kohdefunktio: Maksimoi myyntivoitto. Tuolien ja pöytien vaikutus on valmiina. Lisää hyllyjen vaikutus kohdefunktioon.\n",
    "model += (\n",
    "    tuoli_myyntihinta * tuolit +\n",
    "    pöytä_myyntihinta * pöydät -\n",
    "    lego_pieni_hinta * (2 * tuolit + 2 * pöydät) -\n",
    "    lego_iso_hinta * (1 * tuolit + 2 * pöydät)\n",
    "    ), \"voitto\"\n",
    "# Lisää tähän hyllyjen vaikutus kohdefunktioon muokkaamalla yläpuolella olevaa model ().\n",
    "\n",
    "# Rajoitteet: Tuolien ja pöytien vaikutus on valmiina. Lisää hyllyjen vaikutus rajoitteisiin.\n",
    "model += (2 * tuolit + 2 * pöydät <= lego_pieni_määrä), \"pieni_rajoite\"\n",
    "model += (1 * tuolit + 2 * pöydät <= lego_iso_määrä), \"iso_rajoite\"\n",
    "# Muokkaa yläpuolella olevia model() ja lisää niihin hyllyjen kuluttamat legot osaksi rajoitteita.\n",
    "\n",
    "# Ratkaise optimointimalli\n",
    "model.solve()\n",
    "\n",
    "# Tulosta tulokset\n",
    "print(f\"Käytettävissä olevat legot: {lego_pieni_määrä} pientä, {lego_iso_määrä} isoa\")\n",
    "print(\"Optimiratkaisu:\")\n",
    "print(f\"Tuoleja: {int(tuolit.varValue)}\")\n",
    "print(f\"Pöytiä: {int(pöydät.varValue)}\")\n",
    "# Tulosta myös hyllyt:\n",
    "\n",
    "# Tulostetaan myyntihinta\n",
    "myyntihinta = (\n",
    "    tuoli_myyntihinta * int(tuolit.varValue) +\n",
    "    pöytä_myyntihinta * int(pöydät.varValue) +\n",
    "    hylly_myyntihinta * int(hyllyt.varValue)\n",
    ")\n",
    "print(f\"\\nMyyntihinta: {myyntihinta:.2f}€\")\n",
    "\n",
    "# Tulosta myyntivoitto\n",
    "myyntivoitto = value(model.objective)\n",
    "print(f\"\\nMyyntivoitto: ${myyntivoitto:.2f}\")\n",
    "\n",
    "# Jäikö jotain yli? Lisää hyllyjen vaikutus laskuihin.\n",
    "käytetyt_pienet = 2 * int(tuolit.varValue) + 2 * int(pöydät.varValue)\n",
    "käytetyt_isot = int(tuolit.varValue) + 2 * int(pöydät.varValue)\n",
    "\n",
    "lego_pieni_yli = lego_pieni_määrä - käytetyt_pienet\n",
    "lego_iso_yli = lego_iso_määrä - käytetyt_isot\n",
    "\n",
    "print(f\"{lego_pieni_yli} kpl pieniä legoja jäi yli.\")\n",
    "print(f\"{lego_iso_yli} kpl isoja legoja jäi yli.\")\n"
   ]
  },
  {
   "cell_type": "markdown",
   "id": "6fa2ef04",
   "metadata": {},
   "source": [
    "**4.** Huonekalutehtaan valmistusprosessissa syntyy hiilidioksidi- eli CO₂-päästöjä, jotka ovat haitallisia ympäristölle. Alapuolella on koodi, jossa tämä on otettu huomioon. Missä kohdissa koodia tapahtuu muutoksia ja millaisia nämä muutokset ovat?"
   ]
  },
  {
   "cell_type": "code",
   "execution_count": null,
   "id": "597c2dde",
   "metadata": {},
   "outputs": [],
   "source": [
    "import random\n",
    "\n",
    "# Arvotaan legojen määrät\n",
    "lego_pieni_määrä = random.randint(150, 200)\n",
    "lego_iso_määrä = random.randint(100, 150)\n",
    "\n",
    "# Lego hinnat\n",
    "lego_pieni_hinta = 3\n",
    "lego_iso_hinta = 5\n",
    "\n",
    "# Tuotteiden myyntihinnat\n",
    "tuoli_myyntihinta = 21\n",
    "pöytä_myyntihinta = 32\n",
    "hylly_myyntihinta = 60\n",
    "\n",
    "# Luodaan optimointimalli\n",
    "model = LpProblem(name=\"lego-optimointi\", sense=LpMaximize)\n",
    "\n",
    "# Päätösmuuttujat\n",
    "tuolit = LpVariable(name=\"tuolit\", lowBound=10, cat=\"Integer\")  # vähintään 10\n",
    "pöydät = LpVariable(name=\"pöydät\", lowBound=10, cat=\"Integer\")  # vähintään 10\n",
    "hyllyt = LpVariable(name=\"hyllyt\", lowBound=10, cat=\"Integer\")  # vähintään 10\n",
    "\n",
    "# Kohdefunktio: Maksimoi myyntivoitto\n",
    "model += (\n",
    "    tuoli_myyntihinta * tuolit +\n",
    "    pöytä_myyntihinta * pöydät +\n",
    "    hylly_myyntihinta * hyllyt - \n",
    "    lego_pieni_hinta * (2 * tuolit + 2 * pöydät + 4 * hyllyt) - \n",
    "    lego_iso_hinta * (1 * tuolit + 2 * pöydät + 3 * hyllyt)\n",
    "), \"voitto\"\n",
    "\n",
    "# Rajoitteet legojen määrille\n",
    "model += (2 * tuolit + 2 * pöydät + 4 * hyllyt <= lego_pieni_määrä), \"pieni_rajoite\"\n",
    "model += (1 * tuolit + 2 * pöydät + 3 * hyllyt <= lego_iso_määrä), \"iso_rajoite\"\n",
    "\n",
    "# Hiilidioksidipäästöjen rajoite\n",
    "model += (2 * (2 * tuolit + 2 * pöydät + 4 * hyllyt) + \n",
    "          5 * (1 * tuolit + 2 * pöydät + 3 * hyllyt) <= 1000), \"co2_rajoite\"\n",
    "\n",
    "# Ratkaise optimointimalli\n",
    "model.solve()\n",
    "\n",
    "# Tulokset\n",
    "käytetyt_pienet = 2 * int(tuolit.varValue) + 2 * int(pöydät.varValue) + 4 * int(hyllyt.varValue)\n",
    "käytetyt_isot = int(tuolit.varValue) + 2 * int(pöydät.varValue) + 3 * int(hyllyt.varValue)\n",
    "\n",
    "lego_pieni_yli = lego_pieni_määrä - käytetyt_pienet\n",
    "lego_iso_yli = lego_iso_määrä - käytetyt_isot\n",
    "\n",
    "hiilidioksidi_päästöt = 2 * käytetyt_pienet + 5 * käytetyt_isot\n",
    "\n",
    "myyntihinta = (\n",
    "    tuoli_myyntihinta * int(tuolit.varValue) +\n",
    "    pöytä_myyntihinta * int(pöydät.varValue) +\n",
    "    hylly_myyntihinta * int(hyllyt.varValue)\n",
    ")\n",
    "myyntivoitto = value(model.objective)\n",
    "\n",
    "print(f\"Käytettävissä olevat legot: {lego_pieni_määrä} pientä, {lego_iso_määrä} isoa\")\n",
    "\n",
    "print(\"Optimiratkaisu:\")\n",
    "\n",
    "print(f\"Tuoleja: {int(tuolit.varValue)}\")\n",
    "print(f\"Pöytiä: {int(pöydät.varValue)}\")\n",
    "print(f\"Hyllyjä: {int(hyllyt.varValue)}\")\n",
    "\n",
    "print(f\"\\nMyyntihinta: {myyntihinta:.2f}€\")\n",
    "print(f\"Myyntivoitto: {myyntivoitto:.2f}€\")\n",
    "\n",
    "print(f\"Hiilidioksidipäästöt rakentamisesta: {hiilidioksidi_päästöt} g\")\n",
    "print(f\"Ylijäävät legot: {lego_pieni_yli} pientä ja {lego_iso_yli} isoa\")"
   ]
  }
 ],
 "metadata": {
  "kernelspec": {
   "display_name": "Python 3 (ipykernel)",
   "language": "python",
   "name": "python3"
  },
  "language_info": {
   "codemirror_mode": {
    "name": "ipython",
    "version": 3
   },
   "file_extension": ".py",
   "mimetype": "text/x-python",
   "name": "python",
   "nbconvert_exporter": "python",
   "pygments_lexer": "ipython3",
   "version": "3.11.5"
  }
 },
 "nbformat": 4,
 "nbformat_minor": 5
}
