{
 "cells": [
  {
   "cell_type": "markdown",
   "id": "258b4ff2",
   "metadata": {},
   "source": [
    "# Optimization with python\n",
    "Optimization can also be done with the help of a computer. In this exercise, we'll use python. For this, you'll need the **pulp** library and the following functions from it:"
   ]
  },
  {
   "cell_type": "markdown",
   "id": "6f622fdd",
   "metadata": {},
   "source": [
    "Import **pulp** to the programming environment"
   ]
  },
  {
   "cell_type": "code",
   "execution_count": null,
   "id": "b10f1dda",
   "metadata": {},
   "outputs": [],
   "source": [
    "from pulp import LpMaximize, LpProblem, LpVariable, value"
   ]
  },
  {
   "cell_type": "markdown",
   "id": "af89387a",
   "metadata": {},
   "source": [
    "# Function\n",
    "We'll continue with the same example of **building chairs and tables with Legos**. "
   ]
  },
  {
   "cell_type": "code",
   "execution_count": null,
   "id": "f0ba7ae8",
   "metadata": {},
   "outputs": [],
   "source": [
    "print(\"\\nHello! I'm the Optimization machine and I'm here to help you solve your optimization problem. I just need a bit of information so that I can maximize the objective function...\")\n",
    "\n",
    "small_lego_quantity = int(input(\"How many small Legos do you have? \"))\n",
    "big_lego_quantity = int(input(\"How many big Legos do you have? \"))\n",
    "\n",
    "small_lego_price = int(input(\"How much does one small Lego cost? \"))\n",
    "big_lego_price = int(input(\"`How much does one big Lego cost? \"))\n",
    "\n",
    "chair_price = int(input(\"What is the sales price of a chair? \"))\n",
    "table_price = int(input(\"What is the sales price of a table? \"))\n",
    "\n",
    "print(\"\\nThanks, that's all I needed! One moment please... calculating the optimum point and corresponding profit...\")\n",
    "\n",
    "model = LpProblem(name=\"optimization\", sense=LpMaximize)\n",
    "\n",
    "chairs = LpVariable(name=\"chairs\", lowBound=0, cat='Integer')\n",
    "tables = LpVariable(name=\"tables\", lowBound=0, cat='Integer')\n",
    "\n",
    "model += (chair_price * chairs + table_price * tables\n",
    "          - small_lego_price * (2 * chairs + 2 * tables)\n",
    "          - big_lego_price * (chairs + 2 * tables)), \"profit\"\n",
    "\n",
    "\n",
    "model += (2 * chairs + 2 * tables <= small_lego_quantity, \"small_constraint\")\n",
    "model += (chairs + 2 * tables <= big_lego_quantity, \"big_constraint\")\n",
    "\n",
    "model.solve()\n",
    "\n",
    "print(f\"You should build {int(chairs.varValue)} chairs and {int(tables.varValue)} tables - this is the optimal solution!\")\n",
    "print(f\"If you do as I say, you'll reach the maximum profit of {value(model.objective):.2f}€\")\n",
    "\n",
    "used_small = 2 * int(chairs.varValue) + 2 * int(tables.varValue)\n",
    "used_big = int(chairs.varValue) + 2 * int(tables.varValue)\n",
    "\n",
    "print(f\"{small_lego_quantity - used_small} small Legos are left unused.\")\n",
    "print(f\"{big_lego_quantity - used_big} big Legos are left unused.\")"
   ]
  },
  {
   "cell_type": "code",
   "execution_count": null,
   "id": "d6d68973",
   "metadata": {},
   "outputs": [],
   "source": []
  }
 ],
 "metadata": {
  "kernelspec": {
   "display_name": "Python 3 (ipykernel)",
   "language": "python",
   "name": "python3"
  },
  "language_info": {
   "codemirror_mode": {
    "name": "ipython",
    "version": 3
   },
   "file_extension": ".py",
   "mimetype": "text/x-python",
   "name": "python",
   "nbconvert_exporter": "python",
   "pygments_lexer": "ipython3",
   "version": "3.11.5"
  }
 },
 "nbformat": 4,
 "nbformat_minor": 5
}
