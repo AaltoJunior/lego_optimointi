{
 "cells": [
  {
   "cell_type": "markdown",
   "id": "c62b19b6",
   "metadata": {},
   "source": [
    "# Optimization with python\n",
    "Optimization can also be done with the help of a computer. In this exercise, we'll use python. For this, you'll need the **pulp** library and the following functions from it:"
   ]
  },
  {
   "cell_type": "markdown",
   "id": "6f622fdd",
   "metadata": {},
   "source": [
    "If you don't have **pulp** on your computer, you can install it now:"
   ]
  },
  {
   "cell_type": "code",
   "execution_count": null,
   "id": "dfeb6c05",
   "metadata": {},
   "outputs": [],
   "source": [
    "pip install pulp"
   ]
  },
  {
   "cell_type": "code",
   "execution_count": 1,
   "id": "4ce45d31",
   "metadata": {},
   "outputs": [],
   "source": [
    "from pulp import LpMaximize, LpProblem, LpVariable, value"
   ]
  },
  {
   "cell_type": "markdown",
   "id": "8bda0bea",
   "metadata": {},
   "source": [
    "# Inputs\n",
    "We'll continue with the same example of **building chairs and tables with Legos**. We input the prices and quantities of our Legos to the program as well as the sales prices of the built furniture. This information is stored under **variables**."
   ]
  },
  {
   "cell_type": "code",
   "execution_count": 9,
   "id": "59af31f7",
   "metadata": {},
   "outputs": [],
   "source": [
    "# Number of Legos:\n",
    "small_lego_quantity = 8\n",
    "big_lego_quantity = 6\n",
    "\n",
    "# Prices of Legos:\n",
    "small_lego_price = 3\n",
    "big_lego_price = 5\n",
    "\n",
    "# Sales prices of furniture:\n",
    "chair_price = 21\n",
    "table_price = 32"
   ]
  },
  {
   "cell_type": "markdown",
   "id": "b239aa48",
   "metadata": {},
   "source": [
    "# Defining functions"
   ]
  },
  {
   "cell_type": "code",
   "execution_count": 10,
   "id": "4c0b1d6d",
   "metadata": {},
   "outputs": [],
   "source": [
    "model = LpProblem(name=\"optimization\", sense=LpMaximize)"
   ]
  },
  {
   "cell_type": "code",
   "execution_count": 11,
   "id": "382f366d",
   "metadata": {},
   "outputs": [],
   "source": [
    "chairs = LpVariable(name=\"chairs\", lowBound=0, cat='Integer')\n",
    "tables = LpVariable(name=\"tables\", lowBound=0, cat='Integer')"
   ]
  },
  {
   "cell_type": "markdown",
   "id": "da78b6af",
   "metadata": {},
   "source": [
    "Next, let's define the **objective function**. Rememeber from earlier that the objective function for this problem was the profit function. You need 1 small and 2 big Legos for one chair, and 2 small and 2 big Legos for one table. x_1 is the quantity of available small Legos and x_2 that of big Legos."
   ]
  },
  {
   "cell_type": "markdown",
   "id": "85d67922",
   "metadata": {},
   "source": [
    "We want to maximize profit, so let's add the following function to our program:\n",
    "     \n",
    "$${chair\\:sales\\:price*chairs+table\\:sales\\:price*tables-small\\:lego\\:price*(x_1)-big\\:lego\\:price*(x_2)}$$\n",
    "\n",
    "where\n",
    "   \n",
    "$$x_1 = {2*chairs+2*tables}$$\n",
    "$$x_2 = {1*chairs+2*tables}$$"
   ]
  },
  {
   "cell_type": "markdown",
   "id": "f41eb821",
   "metadata": {},
   "source": [
    "(chair_price * chairs + table_price * tables - small_lego_price * (2 * chairs + 2 * tables) - big_lego_price * (chairs + 2 * tables))"
   ]
  },
  {
   "cell_type": "code",
   "execution_count": 12,
   "id": "8b85af81",
   "metadata": {},
   "outputs": [],
   "source": [
    "model += (chair_price * chairs + table_price * tables\n",
    "          - small_lego_price * (2 * chairs + 2 * tables)\n",
    "          - big_lego_price * (chairs + 2 * tables)), \"profit\""
   ]
  },
  {
   "cell_type": "markdown",
   "id": "e9f5f621",
   "metadata": {},
   "source": [
    "# Constraints\n",
    "There were also certain rules and limits to building chairs and tables. Our program needs to take these into account: there are only 8 small and 6 big Legos available.\n",
    "\n",
    "$${2*chairs+2*tables} \\le small\\:lego\\:quantity$$\n",
    "$${1*chairs+2*tables} \\le big\\:lego\\:quantity$$"
   ]
  },
  {
   "cell_type": "markdown",
   "id": "5c72257c",
   "metadata": {},
   "source": [
    "2 * chairs + 2 * tables <= small_lego_quantity"
   ]
  },
  {
   "cell_type": "markdown",
   "id": "a6e7da80",
   "metadata": {},
   "source": [
    "chairs + 2 * tables <= big_lego_quantity"
   ]
  },
  {
   "cell_type": "code",
   "execution_count": 13,
   "id": "316ed16d",
   "metadata": {},
   "outputs": [],
   "source": [
    "model += (2 * chairs + 2 * tables <= small_lego_quantity, \"small_constraint\")\n",
    "model += (chairs + 2 * tables <= big_lego_quantity, \"big_constraint\")"
   ]
  },
  {
   "cell_type": "markdown",
   "id": "7144ecb0",
   "metadata": {},
   "source": [
    "# Calculating the final result\n",
    "Let's calculate the final result: the optimal number of chairs and tables to build for maximum profit. The program also prints out the resulting profit."
   ]
  },
  {
   "cell_type": "code",
   "execution_count": 14,
   "id": "2959c797",
   "metadata": {},
   "outputs": [
    {
     "data": {
      "text/plain": [
       "1"
      ]
     },
     "execution_count": 14,
     "metadata": {},
     "output_type": "execute_result"
    }
   ],
   "source": [
    "model.solve()"
   ]
  },
  {
   "cell_type": "code",
   "execution_count": 15,
   "id": "b9dd0ffb",
   "metadata": {},
   "outputs": [
    {
     "name": "stdout",
     "output_type": "stream",
     "text": [
      "Optimum:\n",
      "Chairs: 2\n",
      "Tables: 2\n",
      "\n",
      "Profit: $52.00\n",
      "\n",
      "0 small Legos were left over.\n",
      "0 big Legos were left over.\n",
      "\n",
      "Revenue: 106.00€\n"
     ]
    }
   ],
   "source": [
    "# Printing the optimal solution:\n",
    "print(\"Optimum:\")\n",
    "print(f\"Chairs: {int(chairs.varValue)}\")\n",
    "print(f\"Tables: {int(tables.varValue)}\")\n",
    "\n",
    "# Printing the resulting profit:\n",
    "total_profit = value(model.objective)\n",
    "print(f\"\\nProfit: ${total_profit:.2f}\\n\")\n",
    "\n",
    "# Anything left over?\n",
    "used_small = 2 * int(chairs.varValue) + 2 * int(tables.varValue)\n",
    "used_big = int(chairs.varValue) + 2 * int(tables.varValue)\n",
    "\n",
    "not_used_small = small_lego_quantity - used_small\n",
    "not_used_big = big_lego_quantity - used_big\n",
    "\n",
    "print(f\"{not_used_small} small Legos were left over.\")\n",
    "print(f\"{not_used_big} big Legos were left over.\")\n",
    "\n",
    "# Printing revenue:\n",
    "revenue = (chair_price * int(chairs.varValue)) + (table_price * int(tables.varValue))\n",
    "print(f\"\\nRevenue: {revenue:.2f}€\")"
   ]
  },
  {
   "cell_type": "markdown",
   "id": "3dd3bc50",
   "metadata": {},
   "source": [
    "# Extra activity\n",
    "**1.** What if you had 100 small and 85 big Legos? What's the optimal solution then? **2.** What about if the prices of Legos increase? Find the optimal solution when the price of a small Lego increases to 4€ and that of a big Lego to 7€."
   ]
  }
 ],
 "metadata": {
  "kernelspec": {
   "display_name": "Python 3 (ipykernel)",
   "language": "python",
   "name": "python3"
  },
  "language_info": {
   "codemirror_mode": {
    "name": "ipython",
    "version": 3
   },
   "file_extension": ".py",
   "mimetype": "text/x-python",
   "name": "python",
   "nbconvert_exporter": "python",
   "pygments_lexer": "ipython3",
   "version": "3.11.5"
  }
 },
 "nbformat": 4,
 "nbformat_minor": 5
}
