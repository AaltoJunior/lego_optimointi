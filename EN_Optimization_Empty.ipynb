{
 "cells": [
  {
   "cell_type": "markdown",
   "id": "258b4ff2",
   "metadata": {},
   "source": [
    "# Optimization with python\n",
    "Optimization can also be done with the help of a computer. In this exercise, we'll use python. For this, you'll need the **pulp** library and the following functions from it:"
   ]
  },
  {
   "cell_type": "markdown",
   "id": "4035b55b",
   "metadata": {},
   "source": [
    "If you don't have **pulp** on your computer, you can install it now:"
   ]
  },
  {
   "cell_type": "code",
   "execution_count": null,
   "id": "f9ff39f1",
   "metadata": {},
   "outputs": [],
   "source": [
    "pip install pulp"
   ]
  },
  {
   "cell_type": "code",
   "execution_count": null,
   "id": "b10f1dda",
   "metadata": {},
   "outputs": [],
   "source": [
    "from pulp import LpMaximize, LpProblem, LpVariable, value"
   ]
  },
  {
   "cell_type": "markdown",
   "id": "af89387a",
   "metadata": {},
   "source": [
    "# Inputs\n",
    "We'll continue with the same example of **building chairs and tables with Legos**. We input the prices and quantities of our Legos to the program as well as the sales prices of the built furniture. This information is stored under **variables**."
   ]
  },
  {
   "cell_type": "markdown",
   "id": "b5d349b8",
   "metadata": {},
   "source": [
    "**Exercise 1:** \n",
    "Define the following variables:\n",
    "- Number of available small and big Legos\n",
    "- Prices of small and big Legos\n",
    "- Sales prices of chairs and tables"
   ]
  },
  {
   "cell_type": "code",
   "execution_count": null,
   "id": "f0ba7ae8",
   "metadata": {},
   "outputs": [],
   "source": [
    "# Number of Legos:\n",
    "small_lego_quantity = \n",
    "big_lego_quantity = \n",
    "\n",
    "# Prices of Legos:\n",
    "small_lego_price = \n",
    "big_lego_price = \n",
    "\n",
    "# Sales prices of furniture:\n",
    "chair_price = \n",
    "table_price = "
   ]
  },
  {
   "cell_type": "markdown",
   "id": "36bfa6e1",
   "metadata": {},
   "source": [
    "# Defining functions"
   ]
  },
  {
   "cell_type": "code",
   "execution_count": null,
   "id": "84153bfc",
   "metadata": {},
   "outputs": [],
   "source": [
    "model = LpProblem(name=\"optimointi\", sense=LpMaximize)"
   ]
  },
  {
   "cell_type": "code",
   "execution_count": null,
   "id": "40100c32",
   "metadata": {},
   "outputs": [],
   "source": [
    "chairs = LpVariable(name=\"tuolit\", lowBound=0, cat='Integer')\n",
    "tables = LpVariable(name=\"pöydät\", lowBound=0, cat='Integer')"
   ]
  },
  {
   "cell_type": "markdown",
   "id": "022a7b9f",
   "metadata": {},
   "source": [
    "Next, let's define the **objective function**. Rememeber from earlier that the objective function for this problem was the profit function. You need 1 small and 2 big Legos for one chair, and 2 small and 2 big Legos for one table. x_1 is the quantity of available small Legos and x_2 that of big Legos."
   ]
  },
  {
   "cell_type": "markdown",
   "id": "47aff229",
   "metadata": {},
   "source": [
    "**Exercise 2:** We want to maximize profit, so let's add the following function to our program:\n",
    "     \n",
    "$${chair\\:sales\\:price*chairs+table\\:sales\\:price*tables-small\\:lego\\:price*(x_1)-big\\:lego\\:price*(x_2)}$$\n",
    "\n",
    "where\n",
    "   \n",
    "$$x_1 = {2*chairs+2*tables}$$\n",
    "$$x_2 = {1*chairs+2*tables}$$"
   ]
  },
  {
   "cell_type": "code",
   "execution_count": null,
   "id": "863566ac",
   "metadata": {},
   "outputs": [],
   "source": [
    "model += # Write or copy the above function here\n",
    "\n"
   ]
  },
  {
   "cell_type": "markdown",
   "id": "1595ed39",
   "metadata": {},
   "source": [
    "# Constraints\n",
    "**Exercise 3:** There were also certain rules and limits to building chairs and tables. Our program needs to take these into account: there are only 8 small and 6 big Legos available.\n",
    "\n",
    "$${2*chairs+2*tables} \\le small\\:lego\\:quantity$$\n",
    "$${1*chairs+2*tables} \\le big\\:lego\\:quantity$$"
   ]
  },
  {
   "cell_type": "code",
   "execution_count": null,
   "id": "4d11e033",
   "metadata": {},
   "outputs": [],
   "source": [
    "model += # Write or copy the above function here\n",
    "\n",
    "model += # Write or copy the above function here\n"
   ]
  },
  {
   "cell_type": "markdown",
   "id": "f80d7044",
   "metadata": {},
   "source": [
    "# Calculating the final result\n",
    "**Exercise 4:** Let's calculate the final result: the optimal number of chairs and tables to build for maximum profit. The program also prints out the resulting profit and revenue."
   ]
  },
  {
   "cell_type": "code",
   "execution_count": null,
   "id": "20416737",
   "metadata": {},
   "outputs": [],
   "source": [
    "model.solve()"
   ]
  },
  {
   "cell_type": "code",
   "execution_count": null,
   "id": "6ac91873",
   "metadata": {},
   "outputs": [],
   "source": [
    "# Printing the optimal solution:\n",
    "print(\"Optimum:\")\n",
    "print(f\"Chairs: {int(chairs.varValue)}\")\n",
    "print(f\"Tables: {int(tables.varValue)}\")\n",
    "\n",
    "# Printing the resulting profit:\n",
    "total_profit = value(model.objective)\n",
    "print(f\"\\nProfit: ${total_profit:.2f}\\n\")\n",
    "\n",
    "# Anything left over?\n",
    "used_small = 2 * int(chairs.varValue) + 2 * int(tables.varValue)\n",
    "used_big = int(chairs.varValue) + 2 * int(tables.varValue)\n",
    "\n",
    "not_used_small = small_lego_quantity - used_small\n",
    "not_used_big = big_lego_quantity - used_big\n",
    "\n",
    "print(f\"{not_used_small} small Legos were left over.\")\n",
    "print(f\"{not_used_big} big Legos were left over.\")\n",
    "\n",
    "# Printing revenue:\n",
    "revenue = (chair_price * int(chairs.varValue)) + (table_price * int(tables.varValue))\n",
    "print(f\"\\nRevenue: {revenue:.2f}€\")"
   ]
  },
  {
   "cell_type": "markdown",
   "id": "98609f81",
   "metadata": {},
   "source": [
    "# Extra activity\n",
    "**1.** What if you had 100 small and 85 big Legos? What's the optimal solution then? **2.** What about if the prices of Legos increase? Find the optimal solution when the price of a small Lego increases to 4€ and that of a big Lego to 7€."
   ]
  }
 ],
 "metadata": {
  "kernelspec": {
   "display_name": "Python 3 (ipykernel)",
   "language": "python",
   "name": "python3"
  },
  "language_info": {
   "codemirror_mode": {
    "name": "ipython",
    "version": 3
   },
   "file_extension": ".py",
   "mimetype": "text/x-python",
   "name": "python",
   "nbconvert_exporter": "python",
   "pygments_lexer": "ipython3",
   "version": "3.11.5"
  }
 },
 "nbformat": 4,
 "nbformat_minor": 5
}
