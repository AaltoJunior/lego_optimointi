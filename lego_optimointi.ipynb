{
 "cells": [
  {
   "cell_type": "markdown",
   "id": "575e4445-872c-4cc4-a35e-d60cc27bf50c",
   "metadata": {},
   "source": [
    "Moi! Tämä on lego-optimointia työpaja"
   ]
  },
  {
   "cell_type": "code",
   "execution_count": 1,
   "id": "dac34500-69b8-4a73-adcc-039871bcb1c7",
   "metadata": {},
   "outputs": [
    {
     "name": "stdout",
     "output_type": "stream",
     "text": [
      "tervetuloa\n"
     ]
    }
   ],
   "source": [
    "print('tervetuloa')"
   ]
  },
  {
   "cell_type": "code",
   "execution_count": null,
   "id": "45f7ac74-b9a5-494a-bf35-9a001d26fbb1",
   "metadata": {},
   "outputs": [],
   "source": []
  }
 ],
 "metadata": {
  "kernelspec": {
   "display_name": "Python 3",
   "language": "python",
   "name": "python3"
  },
  "language_info": {
   "codemirror_mode": {
    "name": "ipython",
    "version": 3
   },
   "file_extension": ".py",
   "mimetype": "text/x-python",
   "name": "python",
   "nbconvert_exporter": "python",
   "pygments_lexer": "ipython3",
   "version": "3.7.10"
  }
 },
 "nbformat": 4,
 "nbformat_minor": 5
}
