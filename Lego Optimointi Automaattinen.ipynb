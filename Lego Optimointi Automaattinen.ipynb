{
 "cells": [
  {
   "cell_type": "code",
   "execution_count": 4,
   "id": "4ce45d31",
   "metadata": {},
   "outputs": [],
   "source": [
    "from scipy.optimize import linprog"
   ]
  },
  {
   "cell_type": "code",
   "execution_count": 1,
   "id": "59af31f7",
   "metadata": {},
   "outputs": [],
   "source": [
    "# Lego määrät\n",
    "lego_pieni_määrä = 8\n",
    "lego_iso_määrä = 6\n",
    "\n",
    "# Lego hinnat\n",
    "lego_pieni_hinta = 3\n",
    "lego_iso_hinta = 5\n",
    "\n",
    "# Tuotteiden hinnat\n",
    "tuoli_myyntihinta = 21\n",
    "pöytä_myyntihinta = 32"
   ]
  },
  {
   "cell_type": "code",
   "execution_count": 14,
   "id": "382f366d",
   "metadata": {},
   "outputs": [],
   "source": [
    "def calc():\n",
    "    lego_pieni_määrä = int(input(\"Pieni Lego Määrä: \"))\n",
    "    lego_iso_määrä = int(input(\"Iso Lego Määrä: \"))\n",
    "    \n",
    "    lego_pieni_hinta = int(input(\"Pieni Lego Hinta: \"))\n",
    "    lego_iso_hinta = int(input(\"Iso Lego Hinta: \"))\n",
    "\n",
    "    tuoli_myyntihinta = int(input(\"Tuolin Myyntihinta: \"))\n",
    "    pöytä_myyntihinta = int(input(\"Pöydän Myyntihinta: \"))\n",
    "    \n",
    "    \n",
    "    x_1 = tuoli_myyntihinta - 2 * lego_pieni_hinta - 1 * lego_iso_hinta\n",
    "    x_2 = pöytä_myyntihinta - 2 * lego_pieni_hinta - 2 * lego_iso_hinta\n",
    "\n",
    "    voitto = [-(x_1), -(x_2)]\n",
    "    \n",
    "    # Rajoitusten vasen puoli\n",
    "    A = [\n",
    "        [2, 2],  # 2*a + 2*b <= 8\n",
    "        [1, 2],  # 1*a + 2*b <= 6\n",
    "    ]\n",
    "\n",
    "    # Rajoitusten oikea puoli\n",
    "    b = [lego_pieni_määrä, lego_iso_määrä]\n",
    "    \n",
    "    a_rajat = (0, None)  # a >= 0\n",
    "    b_rajat = (0, None)  # b >= 0\n",
    "    \n",
    "    tulos = linprog(voitto, A_ub=A, b_ub=b, bounds=[a_rajat, b_rajat], method='highs')\n",
    "    \n",
    "    return tulos"
   ]
  },
  {
   "cell_type": "code",
   "execution_count": 15,
   "id": "316ed16d",
   "metadata": {},
   "outputs": [
    {
     "name": "stdout",
     "output_type": "stream",
     "text": [
      "Pieni Lego Määrä: 8\n",
      "Iso Lego Määrä: 6\n",
      "Pieni Lego Hinta: 3\n",
      "Iso Lego Hinta: 5\n",
      "Tuolin Myyntihinta: 21\n",
      "Pöydän Myyntihinta: 32\n",
      "Optimaaliset arvot: Tuoleja: 2 kpl ja pöytiä: 2 kpl\n",
      "Maksimaalinen myyntivoitto: 52.0€\n"
     ]
    }
   ],
   "source": [
    "tulos = calc()\n",
    "\n",
    "\n",
    "print(f\"Optimaaliset arvot: Tuoleja: {round(tulos.x[0])} kpl ja pöytiä: {round(tulos.x[1])} kpl\")\n",
    "print(f\"Maksimaalinen myyntivoitto: {round(-tulos.fun,2)}€\")\n"
   ]
  }
 ],
 "metadata": {
  "kernelspec": {
   "display_name": "Python 3",
   "language": "python",
   "name": "python3"
  },
  "language_info": {
   "codemirror_mode": {
    "name": "ipython",
    "version": 3
   },
   "file_extension": ".py",
   "mimetype": "text/x-python",
   "name": "python",
   "nbconvert_exporter": "python",
   "pygments_lexer": "ipython3",
   "version": "3.8.8"
  }
 },
 "nbformat": 4,
 "nbformat_minor": 5
}
