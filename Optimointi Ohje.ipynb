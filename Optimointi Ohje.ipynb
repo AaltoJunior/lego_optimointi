{
 "cells": [
  {
   "cell_type": "markdown",
   "id": "258b4ff2",
   "metadata": {},
   "source": [
    "# Optimointi pythonilla\n",
    "Optimointia voi myös tehdä tietokoneen avulla. Tässä tapauksessa käytetään pythonia. Tätä varten tarvitsen **scipy** kirjaston ja sieltä **linprog** -funktion."
   ]
  },
  {
   "cell_type": "code",
   "execution_count": 129,
   "id": "b10f1dda",
   "metadata": {},
   "outputs": [],
   "source": [
    "from scipy.optimize import linprog"
   ]
  },
  {
   "cell_type": "markdown",
   "id": "af89387a",
   "metadata": {},
   "source": [
    "# Inputs\n",
    "Käytämme samaa esimerkkiä kuin aikaisemmin, eli **rakennamme tuoleja ja pöytiä legoilla**. Tätä varten ohjelmaan syötetään erikokoisten legojen määrät ja hinnat, sekä valmiiden huonekalujen myyntihinnat. Nämä tiedot tallennetaan **muuttujiin**."
   ]
  },
  {
   "cell_type": "code",
   "execution_count": 212,
   "id": "f0ba7ae8",
   "metadata": {},
   "outputs": [],
   "source": [
    "# Legojen määrät:\n",
    "lego_pieni_määrä = 2\n",
    "lego_iso_määrä = 2\n",
    "\n",
    "# Legojen hinnat:\n",
    "lego_pieni_hinta = 3\n",
    "lego_iso_hinta = 5\n",
    "\n",
    "# Tuotteiden hinnat:\n",
    "tuoli_myyntihinta = 21\n",
    "pöytä_myyntihinta = 32"
   ]
  },
  {
   "cell_type": "markdown",
   "id": "36bfa6e1",
   "metadata": {},
   "source": [
    "# Määritellään funktiot\n",
    "Määritellään seuraavaksi funktiot myyntivoitolle. Yhteen tuoliin tarvitaan 1 pieni ja 2 isoa legoa. Yhteen pöytään tarvitaan 2 pientä ja 2 isoa legoa. x_1 on tuolin myyntivoitto ja x_2 on pöydän myyntivoitto\n",
    "\n",
    "$$x_1 = {tuoli\\:myynti\\:hinta-2*lego\\:pieni\\:hinta-1*lego\\:iso\\:hinta}$$\n",
    "$$x_2 = {pöytä\\:myynti\\:hinta-2*lego\\:pieni\\:hinta-2*lego\\:iso\\:hinta}$$"
   ]
  },
  {
   "cell_type": "code",
   "execution_count": 213,
   "id": "40100c32",
   "metadata": {},
   "outputs": [],
   "source": [
    "x_1 = tuoli_myyntihinta - 2 * lego_pieni_hinta - 1 * lego_iso_hinta\n",
    "x_2 = pöytä_myyntihinta - 2 * lego_pieni_hinta - 2 * lego_iso_hinta"
   ]
  },
  {
   "cell_type": "markdown",
   "id": "022a7b9f",
   "metadata": {},
   "source": [
    "Seuraavaksi käytämme **linprog** -nimistä funktiota. Sen avulla voi ratkaista tällaisia ongelmia:\n",
    "\n",
    "$$\\underset{x}{min}\\:c^Tx$$\n",
    "\n",
    "$$such\\:that\\:A_{ub}x\\:\\le\\:b_{ub}$$\n",
    "\n",
    "$$A_{eq}x\\:=\\:b_{eq}$$\n",
    "\n",
    "$$l\\le\\:x\\:\\le\\:u$$\n",
    "\n",
    "Linprog (**linear programming**) minimoi, eli tarvitaan (-) ennen funktioita. Saamme sitten seuraavan funktion:"
   ]
  },
  {
   "cell_type": "code",
   "execution_count": 214,
   "id": "a0505a5e",
   "metadata": {},
   "outputs": [],
   "source": [
    "voitto = [-(x_1), -(x_2)]"
   ]
  },
  {
   "cell_type": "markdown",
   "id": "1595ed39",
   "metadata": {},
   "source": [
    "# Rajoitteet\n",
    "Tuolien ja pöytien rakentamiseen liittyi myös tiettyjä rajoitteita, jotka pitää ottaa huomioon. Tehtävässä oli saatavilla vain 8 pientä palaa ja 6 isoa.\n",
    "$$2*a + 2*b \\le8$$\n",
    "$$1*a + 2*b \\le6$$\n",
    "Missä:\n",
    "$$a = tuolien\\:määrä$$\n",
    "$$b = pöytien\\:määrä$$"
   ]
  },
  {
   "cell_type": "code",
   "execution_count": 215,
   "id": "4d11e033",
   "metadata": {},
   "outputs": [],
   "source": [
    "# Rajoitusten vasen puoli:\n",
    "A = [\n",
    "    [2, 2],  # 2*a + 2*b <= 8\n",
    "    [1, 2],  # 1*a + 2*b <= 6\n",
    "]\n",
    "\n",
    "# Rajoitusten oikea puoli:\n",
    "b = [lego_pieni_määrä, lego_iso_määrä]"
   ]
  },
  {
   "cell_type": "markdown",
   "id": "c5cb10c0",
   "metadata": {},
   "source": [
    "Meidän täytyy myös vielä määritellä, ettei tuoleja tai pöytiä voi rakentaa negatiivista määrää.\n",
    "$$a, b \\ge 0$$"
   ]
  },
  {
   "cell_type": "code",
   "execution_count": 216,
   "id": "60ac1082",
   "metadata": {},
   "outputs": [],
   "source": [
    "a_rajat = (0, None)  # a >= 0\n",
    "b_rajat = (0, None)  # b >= 0"
   ]
  },
  {
   "cell_type": "markdown",
   "id": "f80d7044",
   "metadata": {},
   "source": [
    "# Lasketaan lopputulos\n",
    "Viimeisessä vaiheessa käytämme kaikkia tähän asti määriteltyjä funktioita yhdessä, ja lasketaan lopputulos. Tähän käytämme **linprog** -funktiota."
   ]
  },
  {
   "cell_type": "code",
   "execution_count": 217,
   "id": "bd722801",
   "metadata": {},
   "outputs": [],
   "source": [
    "tulos = linprog(voitto, A_ub=A, b_ub=b, bounds=[a_rajat, b_rajat], method='highs')"
   ]
  },
  {
   "cell_type": "markdown",
   "id": "2b67764c",
   "metadata": {},
   "source": [
    "Tulostetaan lopputulos, eli optimaalinen määrä tuoleja ja pöytiä. Sen lisäksi voidaan myös tulostaa näiden tuottama myyntivoitto."
   ]
  },
  {
   "cell_type": "code",
   "execution_count": 218,
   "id": "6ac91873",
   "metadata": {},
   "outputs": [
    {
     "name": "stdout",
     "output_type": "stream",
     "text": [
      "Optimaaliset arvot: Tuoleja: 0 kpl ja pöytiä: 1 kpl\n",
      "Maksimaalinen myyntivoitto: 16.0€\n"
     ]
    }
   ],
   "source": [
    "print(f\"Optimaaliset arvot: Tuoleja: {round(tulos.x[0])} kpl ja pöytiä: {round(tulos.x[1])} kpl\")\n",
    "print(f\"Maksimaalinen myyntivoitto: {round(-tulos.fun,2)}€\")"
   ]
  },
  {
   "cell_type": "markdown",
   "id": "98609f81",
   "metadata": {},
   "source": [
    "# Lisätehtävä\n",
    "Entäs jos sinulla onkin 100 pientä ja 85 isoa legoa? Mikä silloin on optimaaliratkaisu?"
   ]
  }
 ],
 "metadata": {
  "kernelspec": {
   "display_name": "Python 3 (ipykernel)",
   "language": "python",
   "name": "python3"
  },
  "language_info": {
   "codemirror_mode": {
    "name": "ipython",
    "version": 3
   },
   "file_extension": ".py",
   "mimetype": "text/x-python",
   "name": "python",
   "nbconvert_exporter": "python",
   "pygments_lexer": "ipython3",
   "version": "3.11.5"
  }
 },
 "nbformat": 4,
 "nbformat_minor": 5
}
